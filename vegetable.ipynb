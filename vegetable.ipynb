{
  "nbformat": 4,
  "nbformat_minor": 0,
  "metadata": {
    "colab": {
      "name": "vegetable.ipynb",
      "provenance": [],
      "mount_file_id": "1WKQWTvX_2vuvmq6waauPel9_AE_5b18m",
      "authorship_tag": "ABX9TyMI1TGXuMfdVy64zsanQ3w1",
      "include_colab_link": true
    },
    "kernelspec": {
      "name": "python3",
      "display_name": "Python 3"
    }
  },
  "cells": [
    {
      "cell_type": "markdown",
      "metadata": {
        "id": "view-in-github",
        "colab_type": "text"
      },
      "source": [
        "<a href=\"https://colab.research.google.com/github/lgvision333/python/blob/master/vegetable.ipynb\" target=\"_parent\"><img src=\"https://colab.research.google.com/assets/colab-badge.svg\" alt=\"Open In Colab\"/></a>"
      ]
    },
    {
      "cell_type": "code",
      "metadata": {
        "colab": {
          "base_uri": "https://localhost:8080/",
          "height": 366
        },
        "id": "cl_T4ooi7A06",
        "outputId": "8898a2c7-6164-4cfa-faf0-8d68e78ff8bf"
      },
      "source": [
        "import numpy as np\r\n",
        "import matplotlib.pyplot as plt\r\n",
        "import pandas as pd\r\n",
        "import seaborn as sns\r\n",
        "\r\n",
        "ve_data = pd.read_csv('https://raw.githubusercontent.com/lgvision333/python/master/vegetable.csv')\r\n",
        "\r\n",
        "plt.figure(figsize=(10,5))\r\n",
        "plt.scatter(ve_data['조사연도'], ve_data['생산량(시설)_톤'], c = 'b')\r\n",
        "plt.xlabel('Year')\r\n",
        "plt.ylabel('Ton(t)')"
      ],
      "execution_count": 74,
      "outputs": [
        {
          "output_type": "execute_result",
          "data": {
            "text/plain": [
              "Text(0, 0.5, 'Ton(t)')"
            ]
          },
          "metadata": {
            "tags": []
          },
          "execution_count": 74
        },
        {
          "output_type": "display_data",
          "data": {
            "image/png": "[encoded data removed]",
            "text/plain": [
              "<Figure size 720x360 with 1 Axes>"
            ]
          },
          "metadata": {
            "tags": [],
            "needs_background": "light"
          }
        }
      ]
    }
  ]
}